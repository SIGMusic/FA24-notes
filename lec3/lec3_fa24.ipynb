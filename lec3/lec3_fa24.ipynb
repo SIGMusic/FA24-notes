{
 "cells": [
  {
   "cell_type": "markdown",
   "metadata": {},
   "source": [
    "# Lecture 3: More Filters!\n",
    "\n",
    "### Introduction\n",
    "In this notebook, we'll go over more advanced use cases for filters, including frequency/amplitude filtering and what certain filters do. We'll play around with both from-scratch sounds and imported sounds using our filters. "
   ]
  },
  {
   "cell_type": "code",
   "execution_count": 187,
   "metadata": {},
   "outputs": [],
   "source": [
    "import numpy as np\n",
    "import matplotlib.pyplot as plt\n",
    "import scipy.io.wavfile as wav\n",
    "import IPython"
   ]
  },
  {
   "cell_type": "code",
   "execution_count": 66,
   "metadata": {},
   "outputs": [],
   "source": [
    "def subplot(a: np.ndarray[float], b: np.ndarray[float]) -> None:\n",
    "    fig, axs = plt.subplots(1, 2, figsize=(8, 4))\n",
    "    axs[0].plot(a, color='blue')\n",
    "    axs[1].plot(b, color='green')\n"
   ]
  },
  {
   "cell_type": "code",
   "execution_count": null,
   "metadata": {},
   "outputs": [],
   "source": [
    "sr, s = wav.read('percussion.wav') # <- This can be any sound you want\n",
    "s = (s/np.linalg.norm(s)) * 10\n",
    "\n",
    "IPython.display.Audio(s, rate=sr, normalize=False)"
   ]
  },
  {
   "cell_type": "markdown",
   "metadata": {},
   "source": [
    "### Amplitude Modifications\n",
    "\n",
    "The simplest filter we can make to any sound is modifying its *amplitude* with respect to time. For example, multiplying by a scalar:"
   ]
  },
  {
   "cell_type": "code",
   "execution_count": null,
   "metadata": {},
   "outputs": [],
   "source": [
    "# 0 < x < 1 is quieter,  x > 1 is louder.\n"
   ]
  },
  {
   "cell_type": "markdown",
   "metadata": {},
   "source": [
    "What if we want to vary the volume over *time*?"
   ]
  },
  {
   "cell_type": "code",
   "execution_count": null,
   "metadata": {},
   "outputs": [],
   "source": [
    "filter = np.linspace(start = 1.0, stop = 0.0, num=s.shape[0])"
   ]
  },
  {
   "cell_type": "markdown",
   "metadata": {},
   "source": [
    "What about *fade-ins* and *fade-outs*?"
   ]
  },
  {
   "cell_type": "code",
   "execution_count": null,
   "metadata": {},
   "outputs": [],
   "source": [
    "#print(sr) = 11025 samples/sec\n",
    "\n",
    "IPython.display.Audio(s * f, rate=sr, normalize=False)"
   ]
  },
  {
   "cell_type": "code",
   "execution_count": null,
   "metadata": {},
   "outputs": [],
   "source": [
    "subplot(s, s * f)"
   ]
  },
  {
   "cell_type": "markdown",
   "metadata": {},
   "source": [
    "We aren't just limited to linear functions! Any *continuous* function works."
   ]
  },
  {
   "cell_type": "code",
   "execution_count": null,
   "metadata": {},
   "outputs": [],
   "source": []
  },
  {
   "cell_type": "code",
   "execution_count": null,
   "metadata": {},
   "outputs": [],
   "source": [
    "subplot(s, s * f)"
   ]
  },
  {
   "cell_type": "markdown",
   "metadata": {},
   "source": [
    "Let's return to our made-from-scratch sound..."
   ]
  },
  {
   "cell_type": "code",
   "execution_count": null,
   "metadata": {},
   "outputs": [],
   "source": [
    "sample_rate = 8000 # how many samples to play per second\n",
    "t = lambda duration: np.linspace(0, duration, num=int(sample_rate * duration))\n",
    "\n",
    "sound = lambda f, t, a: 0.1 * a * np.sin(f * 2 * np.pi * t)\n",
    "\n",
    "original = sound(440, t(3), 1)\n",
    "\n",
    "IPython.display.Audio(original, rate=sample_rate, normalize=False)"
   ]
  },
  {
   "cell_type": "markdown",
   "metadata": {},
   "source": [
    "Notice that, alongside the *amplitude*, we use functions or arrays for *frequency* as well! "
   ]
  },
  {
   "cell_type": "code",
   "execution_count": null,
   "metadata": {},
   "outputs": [],
   "source": []
  },
  {
   "cell_type": "code",
   "execution_count": null,
   "metadata": {},
   "outputs": [],
   "source": []
  },
  {
   "cell_type": "code",
   "execution_count": null,
   "metadata": {},
   "outputs": [],
   "source": []
  },
  {
   "cell_type": "code",
   "execution_count": null,
   "metadata": {},
   "outputs": [],
   "source": [
    "subplot(original, sound_f_a)"
   ]
  },
  {
   "cell_type": "code",
   "execution_count": null,
   "metadata": {},
   "outputs": [],
   "source": [
    "f = 0.7*np.sin(0.5*t(4))\n",
    "plt.plot(f)\n",
    "IPython.display.Audio(sound(1000*f, t(4), 0.5), rate=sample_rate, normalize=False)"
   ]
  },
  {
   "cell_type": "markdown",
   "metadata": {},
   "source": [
    "## Challenge: cross-fading\n",
    "\n",
    "Suppose we want to fade into our sound from white noise. We want the noise to play for 2 seconds, then fade into our sound for 2 seconds. How would we do that?"
   ]
  },
  {
   "cell_type": "code",
   "execution_count": null,
   "metadata": {},
   "outputs": [],
   "source": [
    "# white noise:\n",
    "f = 0.05*np.random.normal(size=t(10).shape)\n",
    "IPython.display.Audio(f, rate=sample_rate, normalize=False)"
   ]
  },
  {
   "cell_type": "code",
   "execution_count": null,
   "metadata": {},
   "outputs": [],
   "source": [
    "# Our sound\n",
    "sr, s = wav.read('percussion.wav')\n",
    "s = (s/np.linalg.norm(s)) * 10\n",
    "s = np.hstack([s, s, s, s])\n",
    "IPython.display.Audio(s, rate=sr, normalize=False)"
   ]
  },
  {
   "cell_type": "code",
   "execution_count": null,
   "metadata": {},
   "outputs": [],
   "source": [
    "# code goes here..."
   ]
  },
  {
   "cell_type": "markdown",
   "metadata": {},
   "source": [
    "## Addition: More sinusoids\n",
    "\n",
    "Sinusoids can *greatly* change the timbre of sound, and can be operated on each other to create new sounds entirely. Check out [Waveforms](https://arc.net/l/quote/oqcqtemn) for more details"
   ]
  },
  {
   "cell_type": "code",
   "execution_count": null,
   "metadata": {},
   "outputs": [],
   "source": [
    "sample_rate = 8000 # how many samples to play per second\n",
    "t = lambda duration: np.linspace(0, duration, num=int(sample_rate * duration))\n",
    "\n",
    "sound = lambda f, t, a, sinusoid=np.sin: 0.1 * a * sinusoid(f * 2 * np.pi * t)\n",
    "\n",
    "original = sound(440, t(3), 1)\n",
    "\n",
    "IPython.display.Audio(original, rate=sample_rate, normalize=False)"
   ]
  },
  {
   "cell_type": "code",
   "execution_count": null,
   "metadata": {},
   "outputs": [],
   "source": [
    "import scipy\n",
    "original = sound(440, t(3), 1, scipy.signal.sawtooth)\n",
    "\n",
    "IPython.display.Audio(original, rate=sample_rate, normalize=False)"
   ]
  },
  {
   "cell_type": "code",
   "execution_count": null,
   "metadata": {},
   "outputs": [],
   "source": [
    "original = sound(440, t(3), 1, scipy.signal.square)\n",
    "\n",
    "IPython.display.Audio(original, rate=sample_rate, normalize=False)"
   ]
  },
  {
   "cell_type": "code",
   "execution_count": null,
   "metadata": {},
   "outputs": [],
   "source": [
    "f = scipy.signal.triang(t(3).shape[0])\n",
    "\n",
    "original = sound(440, t(3), 1)\n",
    "\n",
    "IPython.display.Audio(original, rate=sample_rate, normalize=False)"
   ]
  }
 ],
 "metadata": {
  "kernelspec": {
   "display_name": "sigmusic",
   "language": "python",
   "name": "python3"
  },
  "language_info": {
   "codemirror_mode": {
    "name": "ipython",
    "version": 3
   },
   "file_extension": ".py",
   "mimetype": "text/x-python",
   "name": "python",
   "nbconvert_exporter": "python",
   "pygments_lexer": "ipython3",
   "version": "3.11.7"
  }
 },
 "nbformat": 4,
 "nbformat_minor": 2
}
