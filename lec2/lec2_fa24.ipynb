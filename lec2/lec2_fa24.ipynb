{
 "cells": [
  {
   "cell_type": "markdown",
   "id": "194495a7",
   "metadata": {},
   "source": [
    "# SIGMusic Lecture 2: FFT and STFT\n",
    "### Introduction\n",
    "In this notebook, we will cover the fundamentals of Fourier Transforms and how they are used in audio computing. We will explain how to perform Short-Time Fourier Transform (STFT) and the inverse, with both pre-built libraries and numpy."
   ]
  },
  {
   "cell_type": "code",
   "execution_count": 1,
   "id": "636307d1",
   "metadata": {},
   "outputs": [],
   "source": [
    "import numpy as np\n",
    "import matplotlib.pyplot as plt\n",
    "from scipy.fft import fft, ifft\n",
    "from scipy.signal import stft, istft\n",
    "import IPython.display as ipd\n",
    "import IPython"
   ]
  },
  {
   "cell_type": "markdown",
   "id": "618bc75a",
   "metadata": {},
   "source": [
    "## Fourier Transform Math\n",
    "The Fourier Transform is a powerful tool for analyzing signals in the frequency domain. Any time-domain signal can be expressed as a sum of sinusoids with varying frequencies and amplitudes.\n",
    "\n",
    "> Note:\n",
    "> \n",
    "> My explanation today is not going to be able to show the beauty of the Fourier Transform, so I highly recommend watching [3Blue1Brown's video on the topic](https://youtu.be/spUNpyF58BY?si=4wNh3s4Lvfo2KIXl).\n",
    "\n",
    "The **Fourier Transform** is given by:\n",
    "$$ F(f) = \\int_{-\\infty}^{\\infty} f(t) e^{-j 2\\pi ft} dt $$\n",
    "where:\n",
    "- $f(t)$ is the time-domain signal\n",
    "- $F(f)$ is the frequency-domain signal\n",
    "\n",
    "$$ e^{-j 2\\pi ft} = \\cos(2\\pi ft) - j\\sin(2\\pi ft) $$\n",
    "where:\n",
    "- $\\cos(2\\pi ft)$ is the real part of the waveform\n",
    "- $\\sin(2\\pi ft)$ is the imaginary part of the waveform\n",
    "\n",
    "**Let's start by visualizing a sine wave and its Fourier Transform.**"
   ]
  },
  {
   "cell_type": "code",
   "execution_count": null,
   "id": "093e68de",
   "metadata": {},
   "outputs": [],
   "source": [
    "# Fourier Transform Math - Visualizing Sine Wave\n",
    "\n",
    "# TODO: Create a sine wave\n",
    "sampling_rate = 8000\n",
    "freq = 5\n",
    "duration = 1\n",
    "t = # create the time vector\n",
    "sine_wave = # create the sine wave\n",
    "\n",
    "# Plot the sine wave\n",
    "plt.figure(figsize=(10, 4))\n",
    "plt.plot(t, sine_wave)\n",
    "plt.title(f'Sine wave with frequency {freq} Hz')\n",
    "plt.xlabel('Time [s]')\n",
    "plt.ylabel('Amplitude')\n",
    "plt.grid()\n",
    "plt.show()"
   ]
  },
  {
   "cell_type": "markdown",
   "id": "cfcdbdcd",
   "metadata": {},
   "source": [
    "## Discrete Fourier Transform (DFT) and Fast Fourier Transform (FFT)\n",
    "For practical purposes, we use the **Discrete Fourier Transform (DFT)**, which converts a finite sequence of equally spaced samples into a sequence of frequencies. However, the **Fast Fourier Transform (FFT)** algorithm computes the DFT efficiently.\n",
    "\n",
    "The DFT is given by:\n",
    "$$ X[k] = \\sum_{n=0}^{N-1} x[n] e^{-j 2\\pi kn/N} $$\n",
    "where:\n",
    "- $x[n]$ is the input signal\n",
    "- $X[k]$ is the output signal\n",
    "- $N$ is the number of samples\n",
    "- $k$ is the frequency index\n",
    "\n",
    "The FFT algorithm reduces the complexity of computing the DFT from $O(N^2)$ to $O(N \\log N)$. One common implementation is the Cooley-Tukey algorithm.\n",
    "1. **Divide**: Split the input sequence into even and odd elements.\n",
    "2. **Conquer**: Compute the FFT of the even and odd elements recursively.\n",
    "3. **Combine**: Combine the FFTs of even and odd elements.\n",
    "\n",
    "$$ X[k] = E[k] + e^{-j 2\\pi k/N} O[k] $$\n",
    "where:\n",
    "- $E[k]$ is the FFT of the even elements\n",
    "- $O[k]$ is the FFT of the odd elements\n",
    "\n",
    "\n",
    "\n",
    "**Let's compute the FFT of the sine wave.**"
   ]
  },
  {
   "cell_type": "code",
   "execution_count": null,
   "id": "5c6f12a0",
   "metadata": {},
   "outputs": [],
   "source": [
    "fft_sine_wave = fft(sine_wave)\n",
    "fft_freq = np.fft.fftfreq(len(t), 1/sampling_rate)\n",
    "\n",
    "# Plot the frequency spectrum\n",
    "plt.figure(figsize=(10, 4))\n",
    "plt.plot(fft_freq[:len(fft_freq)//2], np.abs(fft_sine_wave[:len(fft_freq)//2])) # we only plot the positive frequencies\n",
    "plt.title('FFT of the sine wave')\n",
    "plt.xlabel('Frequency [Hz]')\n",
    "plt.ylabel('Magnitude')\n",
    "plt.grid()\n",
    "plt.show()"
   ]
  },
  {
   "cell_type": "markdown",
   "id": "6b3d9cbd",
   "metadata": {},
   "source": [
    "## Spectrograms and Time-Frequency Representation\n",
    "A **spectrogram** provides a way to visualize how the frequency content of a signal changes over time. It is created by applying the Short-Time Fourier Transform (STFT) to the signal in small time windows. This gives a **time-frequency representation** of the signal."
   ]
  },
  {
   "cell_type": "code",
   "execution_count": null,
   "id": "770a3fd1",
   "metadata": {},
   "outputs": [],
   "source": [
    "duration = 2.0  # seconds\n",
    "f1, f2 = _, _  # put any 2 frequencies in Hz, stay within 50 - 1000 Hz\n",
    "t = # create the time vector\n",
    "audio_signal = # use knowledge from the previous example to generate a signal with 2 frequencies f1 and f2\n",
    "\n",
    "# Plot the audio signal\n",
    "plt.figure(figsize=(10, 4))\n",
    "plt.plot(t, audio_signal)\n",
    "plt.title('Audio Signal')\n",
    "plt.xlabel('Time [s]')\n",
    "plt.ylabel('Amplitude')\n",
    "plt.grid()\n",
    "plt.show()\n",
    "\n",
    "IPython.display.Audio(audio_signal, rate=sampling_rate)"
   ]
  },
  {
   "cell_type": "markdown",
   "id": "54043661",
   "metadata": {},
   "source": [
    "## Short-Time Fourier Transform (STFT)\n",
    "The Short-Time Fourier Transform (STFT) is applied by dividing the signal into small, overlapping segments (windows) and applying the Fourier Transform to each window.\n",
    "\n",
    "\n",
    "$$ X[m, n) = \\sum_{k=0}^{N-1} x(n+k)w(k)e^{-j2\\pi mk/N} $$\n",
    "where:\n",
    "- $x(n)$ is the input signal\n",
    "- $w(k)$ is the window function\n",
    "- $X(m, n)$ is the STFT of the signal\n",
    "\n",
    "$x(n+k)w(k)$ is the windowed signal, which is multiplied by a window function to reduce **spectral leakage**. This is because the Fourier Transform assumes the signal is periodic, which is not true for real-world signals. The window function tapers the signal at the edges to reduce the effect of discontinuities.\n",
    "Next, each windowed signal is transformed using the DFT to get the frequency content of that window.\n",
    "\n",
    "This allows us to track how frequencies evolve over time.\n",
    "\n",
    "Here, we use a library function to compute the STFT, but we will also implement it manually later in the worksheet."
   ]
  },
  {
   "cell_type": "code",
   "execution_count": null,
   "id": "c2e49dbd",
   "metadata": {},
   "outputs": [],
   "source": [
    "# Use scipy's STFT\n",
    "\n",
    "frequencies, times, Zxx = stft(audio_signal, fs=sampling_rate, nperseg=256) # nperseg is the window size used for the STFT\n",
    "\n",
    "# Plot the STFT\n",
    "plt.figure(figsize=(10, 4))\n",
    "plt.pcolormesh(times, frequencies, np.abs(Zxx), shading='gouraud')\n",
    "plt.title('STFT of audio signal')\n",
    "plt.ylabel('Frequency [Hz]')\n",
    "plt.xlabel('Time [sec]')\n",
    "plt.ylim(0, 1000)\n",
    "plt.colorbar()\n",
    "plt.show()"
   ]
  },
  {
   "cell_type": "markdown",
   "id": "e989c7ea",
   "metadata": {},
   "source": [
    "Inverse STFT is used to reconstruct the signal from the STFT. It is given by:\n",
    "$$ x(n) = \\sum_{m=0}^{M-1} X(m, n)w(n-m) $$\n",
    "where:\n",
    "- $X(m, n)$ is the STFT of the signal\n",
    "- $w(n-m)$ is the window function"
   ]
  },
  {
   "cell_type": "code",
   "execution_count": null,
   "id": "c243de23",
   "metadata": {},
   "outputs": [],
   "source": [
    "# Invert the STFT to get the original signal back\n",
    "_, reconstructed_signal = istft(Zxx, fs=sampling_rate)\n",
    "\n",
    "# Plot the original and reconstructed signal for comparison\n",
    "plt.figure(figsize=(10, 4))\n",
    "plt.plot(t, audio_signal, label='Original Signal')\n",
    "plt.plot(t, reconstructed_signal, linestyle='--', label='Reconstructed Signal', alpha=0.7)\n",
    "plt.title('Original vs Reconstructed Signal')\n",
    "plt.xlabel('Time [s]')\n",
    "plt.ylabel('Amplitude')\n",
    "plt.legend()\n",
    "plt.grid()\n",
    "plt.show()"
   ]
  },
  {
   "cell_type": "code",
   "execution_count": null,
   "id": "19fa05ec",
   "metadata": {},
   "outputs": [],
   "source": [
    "ipd.Audio(reconstructed_signal, rate=sampling_rate)"
   ]
  },
  {
   "cell_type": "markdown",
   "id": "ba509311",
   "metadata": {},
   "source": [
    "## Writing STFT and Inverse STFT from Scratch\n",
    "Now, let's implement STFT and inverse STFT manually using `numpy`.\n",
    "\n",
    "The idea is to window the signal and apply FFT to each window. The inverse STFT stitches the signal back together from the windows."
   ]
  },
  {
   "cell_type": "code",
   "execution_count": null,
   "id": "47d42a77",
   "metadata": {},
   "outputs": [],
   "source": [
    "def stft_custom(signal, window_size, hop_size):\n",
    "    \"\"\"\n",
    "    Compute the Short-Time Fourier Transform (STFT) of a signal.\n",
    "    \n",
    "    Parameters:\n",
    "    signal (array): Input signal\n",
    "    window_size (int): Size of the FFT window\n",
    "    hop_size (int): Number of samples between successive FFT windows\n",
    "    \n",
    "    Returns:\n",
    "    complex array: STFT of the signal\n",
    "    \"\"\"\n",
    "    window = np.hanning(window_size)\n",
    "    \n",
    "    # Calculate number of windows based on hop size\n",
    "    num_windows = _\n",
    "    \n",
    "    # Prepare the STFT result (frequency bins x time frames)\n",
    "    stft_matrix_size = _\n",
    "    stft_matrix = np.zeros(stft_matrix_size, dtype=complex)\n",
    "    \n",
    "    # Loop over windows and apply FFT to each\n",
    "    for i in range(num_windows):\n",
    "        windowed_signal = _ # apply hanning window (hint: multiply) to the signal for the current window\n",
    "        \n",
    "        # Compute FFT and store only the positive frequencies\n",
    "        stft_matrix[:, i] = _ # hint: use np.fft.rfft\n",
    "    \n",
    "    # Create the frequency and time arrays\n",
    "    frequencies = np.fft.rfftfreq(window_size, d=1/sampling_rate) # calculates the frequency bins\n",
    "    times = np.arange(num_windows) * hop_size / sampling_rate # calculates the time frames\n",
    "    \n",
    "    return frequencies, times, stft_matrix\n",
    "\n",
    "window_size = 256\n",
    "hop_size = 128\n",
    "frequencies, times, stft_matrix = stft_custom(audio_signal, window_size, hop_size)\n",
    "\n",
    "# Plot the custom STFT\n",
    "plt.figure(figsize=(10, 4))\n",
    "plt.pcolormesh(times, frequencies, np.abs(stft_matrix), shading='gouraud')\n",
    "plt.title('STFT of audio signal')\n",
    "plt.ylabel('Frequency [Hz]')\n",
    "plt.xlabel('Time [sec]')\n",
    "plt.ylim(0, 1000)\n",
    "plt.colorbar()\n",
    "plt.show()"
   ]
  },
  {
   "cell_type": "code",
   "execution_count": null,
   "id": "82c2347a",
   "metadata": {},
   "outputs": [],
   "source": [
    "def istft_custom(stft_matrix, window_size, hop_size):\n",
    "    window = np.hanning(window_size)\n",
    "    \n",
    "    # Number of time frames (columns) in the STFT matrix\n",
    "    num_frames = stft_matrix.shape[1]\n",
    "    \n",
    "    # Initialize the reconstructed signal (with padding for overlap)\n",
    "    signal_length = num_frames * hop_size + window_size\n",
    "    reconstructed_signal = np.zeros(signal_length)\n",
    "    \n",
    "    # Loop over each frame, apply inverse FFT and overlap-add\n",
    "    for i in range(num_frames):\n",
    "        # Inverse FFT of the current frame\n",
    "        windowed_signal = np.fft.irfft(stft_matrix[:, i], n=window_size)\n",
    "\n",
    "        # Calculate the start and end indices for overlap-add\n",
    "        start_idx = _\n",
    "        end_idx = _\n",
    "        \n",
    "        # Overlap-add the windowed signal and apply the window function\n",
    "        reconstructed_signal[start_idx:end_idx] += windowed_signal * window\n",
    "        \n",
    "    return reconstructed_signal\n",
    "\n",
    "reconstructed_signal = istft_custom(stft_matrix, window_size, hop_size)\n",
    "\n",
    "# Plot the reconstructed signal\n",
    "plt.figure(figsize=(10, 4))\n",
    "plt.plot(t, reconstructed_signal[:len(t)])\n",
    "plt.title('Reconstructed Signal from Custom Inverse STFT')\n",
    "plt.xlabel('Time [s]')\n",
    "plt.ylabel('Amplitude')\n",
    "plt.grid()\n",
    "plt.show()"
   ]
  },
  {
   "cell_type": "code",
   "execution_count": null,
   "id": "23aa2048",
   "metadata": {},
   "outputs": [],
   "source": [
    "ipd.Audio(reconstructed_signal, rate=sampling_rate)"
   ]
  },
  {
   "cell_type": "markdown",
   "metadata": {},
   "source": [
    "Hmm... That does not sound correct. What is the issue here?\n",
    "\n",
    "## Overlap-Add in STFT \n",
    "The STFT is usually computed with overlap between windows to reduce artifacts. The overlap-add method is used to reconstruct the signal from the STFT, where the windows are added together with overlap.\n",
    "\n",
    "## Issues with overlap-add\n",
    "The sum of overlapping windows can cause the signal to have uneven magnitudes in the overlap regions. To avoid this, the windows are usually normalized by a window function. Here, we use the Hann window. The normalization factor is given by:\n",
    "$$ \\text{norm} = \\text{norm} + w(n-m)^2 $$\n",
    "\n",
    "The normalization factor finds the sum of squared window values in the overlap regions. The signal is then divided by the normalization factor to avoid amplifying the signal in the overlap regions."
   ]
  },
  {
   "cell_type": "code",
   "execution_count": null,
   "id": "62dcb34c",
   "metadata": {},
   "outputs": [],
   "source": [
    "def istft_normalized(stft_matrix, window_size, hop_size):\n",
    "    window = np.hanning(window_size)\n",
    "    \n",
    "    # Number of time frames (columns) in the STFT matrix\n",
    "    num_frames = stft_matrix.shape[1]\n",
    "    \n",
    "    # Initialize the reconstructed signal (with padding for overlap)\n",
    "    signal_length = num_frames * hop_size + window_size\n",
    "    reconstructed_signal = np.zeros(signal_length)\n",
    "    normalization_factor = np.zeros(signal_length)\n",
    "    \n",
    "    # Loop over each frame, apply inverse FFT and overlap-add\n",
    "    for i in range(num_frames):\n",
    "        # Inverse FFT of the current frame\n",
    "        windowed_signal = np.fft.irfft(stft_matrix[:, i], n=window_size)\n",
    "\n",
    "        # Calculate the start and end indices for overlap-add - copy the code from the previous cell\n",
    "        start_idx = _\n",
    "        end_idx = _\n",
    "        \n",
    "        # Overlap-add the windowed signal and apply the window function\n",
    "        reconstructed_signal[start_idx:end_idx] += windowed_signal * window\n",
    "        normalization_factor[start_idx:end_idx] += _ # use the function discussed above\n",
    "    \n",
    "    # Normalize by the windowing function to account for overlap\n",
    "    reconstructed_signal /= np.where(normalization_factor > 0, normalization_factor, 1)\n",
    "    \n",
    "    return reconstructed_signal\n",
    "\n",
    "reconstructed_signal = istft_normalized(stft_matrix, window_size, hop_size)\n",
    "\n",
    "# Plot the reconstructed signal\n",
    "plt.figure(figsize=(10, 4))\n",
    "plt.plot(t, reconstructed_signal[:len(t)])\n",
    "plt.title('Reconstructed Signal from Custom Inverse STFT')\n",
    "plt.xlabel('Time [s]')\n",
    "plt.ylabel('Amplitude')\n",
    "plt.grid()\n",
    "plt.show()"
   ]
  },
  {
   "cell_type": "code",
   "execution_count": null,
   "id": "e1ebaf79",
   "metadata": {},
   "outputs": [],
   "source": [
    "ipd.Audio(reconstructed_signal, rate=sampling_rate)"
   ]
  },
  {
   "cell_type": "markdown",
   "id": "40f50149",
   "metadata": {},
   "source": [
    "## Advanced Topics\n",
    "### Windowing Functions\n",
    "Different windowing functions (Hann, Hamming, etc.) affect the frequency resolution and leakage in the STFT. Try experimenting with different window functions and observe how they change the spectrogram and the inverse reconstruction."
   ]
  }
 ],
 "metadata": {
  "kernelspec": {
   "display_name": "Python 3",
   "language": "python",
   "name": "python3"
  },
  "language_info": {
   "codemirror_mode": {
    "name": "ipython",
    "version": 3
   },
   "file_extension": ".py",
   "mimetype": "text/x-python",
   "name": "python",
   "nbconvert_exporter": "python",
   "pygments_lexer": "ipython3",
   "version": "3.9.6"
  }
 },
 "nbformat": 4,
 "nbformat_minor": 5
}
